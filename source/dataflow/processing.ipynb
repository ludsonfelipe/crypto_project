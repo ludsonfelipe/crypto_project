{
 "cells": [
  {
   "cell_type": "code",
   "execution_count": null,
   "metadata": {},
   "outputs": [],
   "source": [
    "import apache_beam as beam\n",
    "from apache_beam.options.pipeline_options import PipelineOptions, StandardOptions\n",
    "\n",
    "pipeline_options_dict = {\n",
    "    'runner': 'DirectRunner',  # Ou 'DataflowRunner' se você estiver executando no Dataflow\n",
    "    'streaming': True,\n",
    "}\n",
    "\n",
    "pipeline_options = PipelineOptions.from_dictionary(pipeline_options_dict)\n",
    "\n",
    "with beam.Pipeline(options = pipeline_options) as pipeline:\n",
    "    processing = (\n",
    "        pipeline\n",
    "        | beam.io.ReadFromPubSub(subscription='projects/playground-s-11-a3b55282/subscriptions/dataflow').with_output_types(bytes)\n",
    "        | beam.Map(print)#beam.WindowInto(beam.window.FixedWindows(window_size), trigger=beam.trigger.AfterWatermark(), accumulation_mode=beam.trigger.AccumulationMode.DISCARDING)\n",
    "        #| beam.io.WriteToText('./test/')\n",
    "    )\n"
   ]
  }
 ],
 "metadata": {
  "language_info": {
   "name": "python"
  },
  "orig_nbformat": 4
 },
 "nbformat": 4,
 "nbformat_minor": 2
}
